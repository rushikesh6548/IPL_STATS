{
  "nbformat": 4,
  "nbformat_minor": 0,
  "metadata": {
    "colab": {
      "provenance": [],
      "authorship_tag": "ABX9TyMgeBsZ4tzF0nwckIRTBvg2",
      "include_colab_link": true
    },
    "kernelspec": {
      "name": "python3",
      "display_name": "Python 3"
    },
    "language_info": {
      "name": "python"
    }
  },
  "cells": [
    {
      "cell_type": "markdown",
      "metadata": {
        "id": "view-in-github",
        "colab_type": "text"
      },
      "source": [
        "<a href=\"https://colab.research.google.com/github/rushikesh6548/IPL_STATS/blob/main/Cricket_XI_DT.ipynb\" target=\"_parent\"><img src=\"https://colab.research.google.com/assets/colab-badge.svg\" alt=\"Open In Colab\"/></a>"
      ]
    },
    {
      "cell_type": "code",
      "source": [
        "import pandas as pd\n"
      ],
      "metadata": {
        "id": "HHBV2RRfb43x"
      },
      "execution_count": 1,
      "outputs": []
    },
    {
      "cell_type": "code",
      "source": [
        "df = pd.read_excel(\"/content/dataset_for_ML.xlsx\")"
      ],
      "metadata": {
        "id": "LE8PQ7qBb9gX"
      },
      "execution_count": 37,
      "outputs": []
    },
    {
      "cell_type": "code",
      "source": [
        "df.describe()"
      ],
      "metadata": {
        "colab": {
          "base_uri": "https://localhost:8080/",
          "height": 300
        },
        "id": "K8d4TCfzcBwv",
        "outputId": "731cf2aa-918e-4bf9-c6ef-92c6d0b8af9f"
      },
      "execution_count": 7,
      "outputs": [
        {
          "output_type": "execute_result",
          "data": {
            "text/plain": [
              "           match_id  avg_runs_last_5_innings  \\\n",
              "count  1.526500e+04             13301.000000   \n",
              "mean   1.157863e+06                17.703824   \n",
              "std    2.084185e+05                13.410841   \n",
              "min    7.292790e+05                 0.000000   \n",
              "25%    1.082592e+06                 6.500000   \n",
              "50%    1.216494e+06                15.800000   \n",
              "75%    1.304107e+06                26.400000   \n",
              "max    1.426312e+06                83.000000   \n",
              "\n",
              "       avg_runs_last_5_innings_at_that_venue  avg_wickets_last_5  \\\n",
              "count                           12596.000000         8149.000000   \n",
              "mean                               18.176606            1.577220   \n",
              "std                                15.690640            0.539308   \n",
              "min                                 0.000000            1.000000   \n",
              "25%                                 5.500000            1.000000   \n",
              "50%                                15.000000            1.500000   \n",
              "75%                                26.800000            2.000000   \n",
              "max                               113.000000            6.000000   \n",
              "\n",
              "       avg_wickets_last_5_innings_at_that_venue  fantasy_points  \n",
              "count                              12596.000000    15265.000000  \n",
              "mean                                  18.176606       43.058434  \n",
              "std                                   15.690640       40.996638  \n",
              "min                                    0.000000        0.000000  \n",
              "25%                                    5.500000       12.000000  \n",
              "50%                                   15.000000       30.000000  \n",
              "75%                                   26.800000       60.000000  \n",
              "max                                  113.000000      284.000000  "
            ],
            "text/html": [
              "\n",
              "  <div id=\"df-369976df-cbf2-41dd-b1cc-684877e84985\" class=\"colab-df-container\">\n",
              "    <div>\n",
              "<style scoped>\n",
              "    .dataframe tbody tr th:only-of-type {\n",
              "        vertical-align: middle;\n",
              "    }\n",
              "\n",
              "    .dataframe tbody tr th {\n",
              "        vertical-align: top;\n",
              "    }\n",
              "\n",
              "    .dataframe thead th {\n",
              "        text-align: right;\n",
              "    }\n",
              "</style>\n",
              "<table border=\"1\" class=\"dataframe\">\n",
              "  <thead>\n",
              "    <tr style=\"text-align: right;\">\n",
              "      <th></th>\n",
              "      <th>match_id</th>\n",
              "      <th>avg_runs_last_5_innings</th>\n",
              "      <th>avg_runs_last_5_innings_at_that_venue</th>\n",
              "      <th>avg_wickets_last_5</th>\n",
              "      <th>avg_wickets_last_5_innings_at_that_venue</th>\n",
              "      <th>fantasy_points</th>\n",
              "    </tr>\n",
              "  </thead>\n",
              "  <tbody>\n",
              "    <tr>\n",
              "      <th>count</th>\n",
              "      <td>1.526500e+04</td>\n",
              "      <td>13301.000000</td>\n",
              "      <td>12596.000000</td>\n",
              "      <td>8149.000000</td>\n",
              "      <td>12596.000000</td>\n",
              "      <td>15265.000000</td>\n",
              "    </tr>\n",
              "    <tr>\n",
              "      <th>mean</th>\n",
              "      <td>1.157863e+06</td>\n",
              "      <td>17.703824</td>\n",
              "      <td>18.176606</td>\n",
              "      <td>1.577220</td>\n",
              "      <td>18.176606</td>\n",
              "      <td>43.058434</td>\n",
              "    </tr>\n",
              "    <tr>\n",
              "      <th>std</th>\n",
              "      <td>2.084185e+05</td>\n",
              "      <td>13.410841</td>\n",
              "      <td>15.690640</td>\n",
              "      <td>0.539308</td>\n",
              "      <td>15.690640</td>\n",
              "      <td>40.996638</td>\n",
              "    </tr>\n",
              "    <tr>\n",
              "      <th>min</th>\n",
              "      <td>7.292790e+05</td>\n",
              "      <td>0.000000</td>\n",
              "      <td>0.000000</td>\n",
              "      <td>1.000000</td>\n",
              "      <td>0.000000</td>\n",
              "      <td>0.000000</td>\n",
              "    </tr>\n",
              "    <tr>\n",
              "      <th>25%</th>\n",
              "      <td>1.082592e+06</td>\n",
              "      <td>6.500000</td>\n",
              "      <td>5.500000</td>\n",
              "      <td>1.000000</td>\n",
              "      <td>5.500000</td>\n",
              "      <td>12.000000</td>\n",
              "    </tr>\n",
              "    <tr>\n",
              "      <th>50%</th>\n",
              "      <td>1.216494e+06</td>\n",
              "      <td>15.800000</td>\n",
              "      <td>15.000000</td>\n",
              "      <td>1.500000</td>\n",
              "      <td>15.000000</td>\n",
              "      <td>30.000000</td>\n",
              "    </tr>\n",
              "    <tr>\n",
              "      <th>75%</th>\n",
              "      <td>1.304107e+06</td>\n",
              "      <td>26.400000</td>\n",
              "      <td>26.800000</td>\n",
              "      <td>2.000000</td>\n",
              "      <td>26.800000</td>\n",
              "      <td>60.000000</td>\n",
              "    </tr>\n",
              "    <tr>\n",
              "      <th>max</th>\n",
              "      <td>1.426312e+06</td>\n",
              "      <td>83.000000</td>\n",
              "      <td>113.000000</td>\n",
              "      <td>6.000000</td>\n",
              "      <td>113.000000</td>\n",
              "      <td>284.000000</td>\n",
              "    </tr>\n",
              "  </tbody>\n",
              "</table>\n",
              "</div>\n",
              "    <div class=\"colab-df-buttons\">\n",
              "\n",
              "  <div class=\"colab-df-container\">\n",
              "    <button class=\"colab-df-convert\" onclick=\"convertToInteractive('df-369976df-cbf2-41dd-b1cc-684877e84985')\"\n",
              "            title=\"Convert this dataframe to an interactive table.\"\n",
              "            style=\"display:none;\">\n",
              "\n",
              "  <svg xmlns=\"http://www.w3.org/2000/svg\" height=\"24px\" viewBox=\"0 -960 960 960\">\n",
              "    <path d=\"M120-120v-720h720v720H120Zm60-500h600v-160H180v160Zm220 220h160v-160H400v160Zm0 220h160v-160H400v160ZM180-400h160v-160H180v160Zm440 0h160v-160H620v160ZM180-180h160v-160H180v160Zm440 0h160v-160H620v160Z\"/>\n",
              "  </svg>\n",
              "    </button>\n",
              "\n",
              "  <style>\n",
              "    .colab-df-container {\n",
              "      display:flex;\n",
              "      gap: 12px;\n",
              "    }\n",
              "\n",
              "    .colab-df-convert {\n",
              "      background-color: #E8F0FE;\n",
              "      border: none;\n",
              "      border-radius: 50%;\n",
              "      cursor: pointer;\n",
              "      display: none;\n",
              "      fill: #1967D2;\n",
              "      height: 32px;\n",
              "      padding: 0 0 0 0;\n",
              "      width: 32px;\n",
              "    }\n",
              "\n",
              "    .colab-df-convert:hover {\n",
              "      background-color: #E2EBFA;\n",
              "      box-shadow: 0px 1px 2px rgba(60, 64, 67, 0.3), 0px 1px 3px 1px rgba(60, 64, 67, 0.15);\n",
              "      fill: #174EA6;\n",
              "    }\n",
              "\n",
              "    .colab-df-buttons div {\n",
              "      margin-bottom: 4px;\n",
              "    }\n",
              "\n",
              "    [theme=dark] .colab-df-convert {\n",
              "      background-color: #3B4455;\n",
              "      fill: #D2E3FC;\n",
              "    }\n",
              "\n",
              "    [theme=dark] .colab-df-convert:hover {\n",
              "      background-color: #434B5C;\n",
              "      box-shadow: 0px 1px 3px 1px rgba(0, 0, 0, 0.15);\n",
              "      filter: drop-shadow(0px 1px 2px rgba(0, 0, 0, 0.3));\n",
              "      fill: #FFFFFF;\n",
              "    }\n",
              "  </style>\n",
              "\n",
              "    <script>\n",
              "      const buttonEl =\n",
              "        document.querySelector('#df-369976df-cbf2-41dd-b1cc-684877e84985 button.colab-df-convert');\n",
              "      buttonEl.style.display =\n",
              "        google.colab.kernel.accessAllowed ? 'block' : 'none';\n",
              "\n",
              "      async function convertToInteractive(key) {\n",
              "        const element = document.querySelector('#df-369976df-cbf2-41dd-b1cc-684877e84985');\n",
              "        const dataTable =\n",
              "          await google.colab.kernel.invokeFunction('convertToInteractive',\n",
              "                                                    [key], {});\n",
              "        if (!dataTable) return;\n",
              "\n",
              "        const docLinkHtml = 'Like what you see? Visit the ' +\n",
              "          '<a target=\"_blank\" href=https://colab.research.google.com/notebooks/data_table.ipynb>data table notebook</a>'\n",
              "          + ' to learn more about interactive tables.';\n",
              "        element.innerHTML = '';\n",
              "        dataTable['output_type'] = 'display_data';\n",
              "        await google.colab.output.renderOutput(dataTable, element);\n",
              "        const docLink = document.createElement('div');\n",
              "        docLink.innerHTML = docLinkHtml;\n",
              "        element.appendChild(docLink);\n",
              "      }\n",
              "    </script>\n",
              "  </div>\n",
              "\n",
              "\n",
              "<div id=\"df-8cca87d2-0f8b-4345-b903-9ae2d799b362\">\n",
              "  <button class=\"colab-df-quickchart\" onclick=\"quickchart('df-8cca87d2-0f8b-4345-b903-9ae2d799b362')\"\n",
              "            title=\"Suggest charts\"\n",
              "            style=\"display:none;\">\n",
              "\n",
              "<svg xmlns=\"http://www.w3.org/2000/svg\" height=\"24px\"viewBox=\"0 0 24 24\"\n",
              "     width=\"24px\">\n",
              "    <g>\n",
              "        <path d=\"M19 3H5c-1.1 0-2 .9-2 2v14c0 1.1.9 2 2 2h14c1.1 0 2-.9 2-2V5c0-1.1-.9-2-2-2zM9 17H7v-7h2v7zm4 0h-2V7h2v10zm4 0h-2v-4h2v4z\"/>\n",
              "    </g>\n",
              "</svg>\n",
              "  </button>\n",
              "\n",
              "<style>\n",
              "  .colab-df-quickchart {\n",
              "      --bg-color: #E8F0FE;\n",
              "      --fill-color: #1967D2;\n",
              "      --hover-bg-color: #E2EBFA;\n",
              "      --hover-fill-color: #174EA6;\n",
              "      --disabled-fill-color: #AAA;\n",
              "      --disabled-bg-color: #DDD;\n",
              "  }\n",
              "\n",
              "  [theme=dark] .colab-df-quickchart {\n",
              "      --bg-color: #3B4455;\n",
              "      --fill-color: #D2E3FC;\n",
              "      --hover-bg-color: #434B5C;\n",
              "      --hover-fill-color: #FFFFFF;\n",
              "      --disabled-bg-color: #3B4455;\n",
              "      --disabled-fill-color: #666;\n",
              "  }\n",
              "\n",
              "  .colab-df-quickchart {\n",
              "    background-color: var(--bg-color);\n",
              "    border: none;\n",
              "    border-radius: 50%;\n",
              "    cursor: pointer;\n",
              "    display: none;\n",
              "    fill: var(--fill-color);\n",
              "    height: 32px;\n",
              "    padding: 0;\n",
              "    width: 32px;\n",
              "  }\n",
              "\n",
              "  .colab-df-quickchart:hover {\n",
              "    background-color: var(--hover-bg-color);\n",
              "    box-shadow: 0 1px 2px rgba(60, 64, 67, 0.3), 0 1px 3px 1px rgba(60, 64, 67, 0.15);\n",
              "    fill: var(--button-hover-fill-color);\n",
              "  }\n",
              "\n",
              "  .colab-df-quickchart-complete:disabled,\n",
              "  .colab-df-quickchart-complete:disabled:hover {\n",
              "    background-color: var(--disabled-bg-color);\n",
              "    fill: var(--disabled-fill-color);\n",
              "    box-shadow: none;\n",
              "  }\n",
              "\n",
              "  .colab-df-spinner {\n",
              "    border: 2px solid var(--fill-color);\n",
              "    border-color: transparent;\n",
              "    border-bottom-color: var(--fill-color);\n",
              "    animation:\n",
              "      spin 1s steps(1) infinite;\n",
              "  }\n",
              "\n",
              "  @keyframes spin {\n",
              "    0% {\n",
              "      border-color: transparent;\n",
              "      border-bottom-color: var(--fill-color);\n",
              "      border-left-color: var(--fill-color);\n",
              "    }\n",
              "    20% {\n",
              "      border-color: transparent;\n",
              "      border-left-color: var(--fill-color);\n",
              "      border-top-color: var(--fill-color);\n",
              "    }\n",
              "    30% {\n",
              "      border-color: transparent;\n",
              "      border-left-color: var(--fill-color);\n",
              "      border-top-color: var(--fill-color);\n",
              "      border-right-color: var(--fill-color);\n",
              "    }\n",
              "    40% {\n",
              "      border-color: transparent;\n",
              "      border-right-color: var(--fill-color);\n",
              "      border-top-color: var(--fill-color);\n",
              "    }\n",
              "    60% {\n",
              "      border-color: transparent;\n",
              "      border-right-color: var(--fill-color);\n",
              "    }\n",
              "    80% {\n",
              "      border-color: transparent;\n",
              "      border-right-color: var(--fill-color);\n",
              "      border-bottom-color: var(--fill-color);\n",
              "    }\n",
              "    90% {\n",
              "      border-color: transparent;\n",
              "      border-bottom-color: var(--fill-color);\n",
              "    }\n",
              "  }\n",
              "</style>\n",
              "\n",
              "  <script>\n",
              "    async function quickchart(key) {\n",
              "      const quickchartButtonEl =\n",
              "        document.querySelector('#' + key + ' button');\n",
              "      quickchartButtonEl.disabled = true;  // To prevent multiple clicks.\n",
              "      quickchartButtonEl.classList.add('colab-df-spinner');\n",
              "      try {\n",
              "        const charts = await google.colab.kernel.invokeFunction(\n",
              "            'suggestCharts', [key], {});\n",
              "      } catch (error) {\n",
              "        console.error('Error during call to suggestCharts:', error);\n",
              "      }\n",
              "      quickchartButtonEl.classList.remove('colab-df-spinner');\n",
              "      quickchartButtonEl.classList.add('colab-df-quickchart-complete');\n",
              "    }\n",
              "    (() => {\n",
              "      let quickchartButtonEl =\n",
              "        document.querySelector('#df-8cca87d2-0f8b-4345-b903-9ae2d799b362 button');\n",
              "      quickchartButtonEl.style.display =\n",
              "        google.colab.kernel.accessAllowed ? 'block' : 'none';\n",
              "    })();\n",
              "  </script>\n",
              "</div>\n",
              "\n",
              "    </div>\n",
              "  </div>\n"
            ],
            "application/vnd.google.colaboratory.intrinsic+json": {
              "type": "dataframe",
              "summary": "{\n  \"name\": \"df\",\n  \"rows\": 8,\n  \"fields\": [\n    {\n      \"column\": \"match_id\",\n      \"properties\": {\n        \"dtype\": \"number\",\n        \"std\": 525091.833882917,\n        \"min\": 15265.0,\n        \"max\": 1426312.0,\n        \"num_unique_values\": 8,\n        \"samples\": [\n          1157863.1432034066,\n          1216494.0,\n          15265.0\n        ],\n        \"semantic_type\": \"\",\n        \"description\": \"\"\n      }\n    },\n    {\n      \"column\": \"avg_runs_last_5_innings\",\n      \"properties\": {\n        \"dtype\": \"number\",\n        \"std\": 4694.460017022358,\n        \"min\": 0.0,\n        \"max\": 13301.0,\n        \"num_unique_values\": 8,\n        \"samples\": [\n          17.703824273864118,\n          15.8,\n          13301.0\n        ],\n        \"semantic_type\": \"\",\n        \"description\": \"\"\n      }\n    },\n    {\n      \"column\": \"avg_runs_last_5_innings_at_that_venue\",\n      \"properties\": {\n        \"dtype\": \"number\",\n        \"std\": 4443.695177296187,\n        \"min\": 0.0,\n        \"max\": 12596.0,\n        \"num_unique_values\": 8,\n        \"samples\": [\n          18.176606330051868,\n          15.0,\n          12596.0\n        ],\n        \"semantic_type\": \"\",\n        \"description\": \"\"\n      }\n    },\n    {\n      \"column\": \"avg_wickets_last_5\",\n      \"properties\": {\n        \"dtype\": \"number\",\n        \"std\": 2880.419350815187,\n        \"min\": 0.539307756289886,\n        \"max\": 8149.0,\n        \"num_unique_values\": 7,\n        \"samples\": [\n          8149.0,\n          1.5772201088068063,\n          2.0\n        ],\n        \"semantic_type\": \"\",\n        \"description\": \"\"\n      }\n    },\n    {\n      \"column\": \"avg_wickets_last_5_innings_at_that_venue\",\n      \"properties\": {\n        \"dtype\": \"number\",\n        \"std\": 4443.695177296187,\n        \"min\": 0.0,\n        \"max\": 12596.0,\n        \"num_unique_values\": 8,\n        \"samples\": [\n          18.176606330051868,\n          15.0,\n          12596.0\n        ],\n        \"semantic_type\": \"\",\n        \"description\": \"\"\n      }\n    },\n    {\n      \"column\": \"fantasy_points\",\n      \"properties\": {\n        \"dtype\": \"number\",\n        \"std\": 5374.012400800925,\n        \"min\": 0.0,\n        \"max\": 15265.0,\n        \"num_unique_values\": 8,\n        \"samples\": [\n          43.05843432689158,\n          30.0,\n          15265.0\n        ],\n        \"semantic_type\": \"\",\n        \"description\": \"\"\n      }\n    }\n  ]\n}"
            }
          },
          "metadata": {},
          "execution_count": 7
        }
      ]
    },
    {
      "cell_type": "code",
      "source": [
        "df.dtypes"
      ],
      "metadata": {
        "colab": {
          "base_uri": "https://localhost:8080/",
          "height": 460
        },
        "id": "TTW9ADRKcH6X",
        "outputId": "7f618b1a-a39c-4448-a900-d049e63920a1"
      },
      "execution_count": 8,
      "outputs": [
        {
          "output_type": "execute_result",
          "data": {
            "text/plain": [
              "match_id                                      int64\n",
              "season                                       object\n",
              "venue                                        object\n",
              "player_name                                  object\n",
              "player_team                                  object\n",
              "opponent_team                                object\n",
              "avg_runs_last_5_innings                     float64\n",
              "avg_runs_last_5_innings_at_that_venue       float64\n",
              "avg_wickets_last_5                          float64\n",
              "avg_wickets_last_5_innings_at_that_venue    float64\n",
              "fantasy_points                                int64\n",
              "pitch_nature                                 object\n",
              "dtype: object"
            ],
            "text/html": [
              "<div>\n",
              "<style scoped>\n",
              "    .dataframe tbody tr th:only-of-type {\n",
              "        vertical-align: middle;\n",
              "    }\n",
              "\n",
              "    .dataframe tbody tr th {\n",
              "        vertical-align: top;\n",
              "    }\n",
              "\n",
              "    .dataframe thead th {\n",
              "        text-align: right;\n",
              "    }\n",
              "</style>\n",
              "<table border=\"1\" class=\"dataframe\">\n",
              "  <thead>\n",
              "    <tr style=\"text-align: right;\">\n",
              "      <th></th>\n",
              "      <th>0</th>\n",
              "    </tr>\n",
              "  </thead>\n",
              "  <tbody>\n",
              "    <tr>\n",
              "      <th>match_id</th>\n",
              "      <td>int64</td>\n",
              "    </tr>\n",
              "    <tr>\n",
              "      <th>season</th>\n",
              "      <td>object</td>\n",
              "    </tr>\n",
              "    <tr>\n",
              "      <th>venue</th>\n",
              "      <td>object</td>\n",
              "    </tr>\n",
              "    <tr>\n",
              "      <th>player_name</th>\n",
              "      <td>object</td>\n",
              "    </tr>\n",
              "    <tr>\n",
              "      <th>player_team</th>\n",
              "      <td>object</td>\n",
              "    </tr>\n",
              "    <tr>\n",
              "      <th>opponent_team</th>\n",
              "      <td>object</td>\n",
              "    </tr>\n",
              "    <tr>\n",
              "      <th>avg_runs_last_5_innings</th>\n",
              "      <td>float64</td>\n",
              "    </tr>\n",
              "    <tr>\n",
              "      <th>avg_runs_last_5_innings_at_that_venue</th>\n",
              "      <td>float64</td>\n",
              "    </tr>\n",
              "    <tr>\n",
              "      <th>avg_wickets_last_5</th>\n",
              "      <td>float64</td>\n",
              "    </tr>\n",
              "    <tr>\n",
              "      <th>avg_wickets_last_5_innings_at_that_venue</th>\n",
              "      <td>float64</td>\n",
              "    </tr>\n",
              "    <tr>\n",
              "      <th>fantasy_points</th>\n",
              "      <td>int64</td>\n",
              "    </tr>\n",
              "    <tr>\n",
              "      <th>pitch_nature</th>\n",
              "      <td>object</td>\n",
              "    </tr>\n",
              "  </tbody>\n",
              "</table>\n",
              "</div><br><label><b>dtype:</b> object</label>"
            ]
          },
          "metadata": {},
          "execution_count": 8
        }
      ]
    },
    {
      "cell_type": "code",
      "source": [
        "import pandas as pd\n",
        "import numpy as np\n",
        "from sklearn.model_selection import train_test_split\n",
        "from sklearn.preprocessing import OneHotEncoder, StandardScaler\n",
        "from sklearn.impute import SimpleImputer\n",
        "from sklearn.pipeline import Pipeline\n",
        "from sklearn.compose import ColumnTransformer\n",
        "from sklearn.ensemble import RandomForestRegressor\n",
        "from sklearn.linear_model import LinearRegression\n",
        "from xgboost import XGBRegressor\n",
        "from sklearn.metrics import mean_squared_error, r2_score"
      ],
      "metadata": {
        "id": "XP86h4utcNJH"
      },
      "execution_count": 36,
      "outputs": []
    },
    {
      "cell_type": "code",
      "source": [
        "\n",
        "# Fill missing values for numerical columns\n",
        "df['avg_runs_last_5_innings'].fillna(0, inplace=True)\n",
        "df['avg_wickets_last_5'].fillna(0, inplace=True)\n",
        "df['avg_runs_last_5_innings_at_that_venue'].fillna(0, inplace=True)\n",
        "df['avg_wickets_last_5_innings_at_that_venue'].fillna(0, inplace=True)"
      ],
      "metadata": {
        "colab": {
          "base_uri": "https://localhost:8080/"
        },
        "id": "VxIasCAMeYmA",
        "outputId": "2727433d-cbf8-43f8-9b85-08267b9a8a91"
      },
      "execution_count": 38,
      "outputs": [
        {
          "output_type": "stream",
          "name": "stderr",
          "text": [
            "<ipython-input-38-c45d2faee3c9>:2: FutureWarning: A value is trying to be set on a copy of a DataFrame or Series through chained assignment using an inplace method.\n",
            "The behavior will change in pandas 3.0. This inplace method will never work because the intermediate object on which we are setting values always behaves as a copy.\n",
            "\n",
            "For example, when doing 'df[col].method(value, inplace=True)', try using 'df.method({col: value}, inplace=True)' or df[col] = df[col].method(value) instead, to perform the operation inplace on the original object.\n",
            "\n",
            "\n",
            "  df['avg_runs_last_5_innings'].fillna(0, inplace=True)\n",
            "<ipython-input-38-c45d2faee3c9>:3: FutureWarning: A value is trying to be set on a copy of a DataFrame or Series through chained assignment using an inplace method.\n",
            "The behavior will change in pandas 3.0. This inplace method will never work because the intermediate object on which we are setting values always behaves as a copy.\n",
            "\n",
            "For example, when doing 'df[col].method(value, inplace=True)', try using 'df.method({col: value}, inplace=True)' or df[col] = df[col].method(value) instead, to perform the operation inplace on the original object.\n",
            "\n",
            "\n",
            "  df['avg_wickets_last_5'].fillna(0, inplace=True)\n",
            "<ipython-input-38-c45d2faee3c9>:4: FutureWarning: A value is trying to be set on a copy of a DataFrame or Series through chained assignment using an inplace method.\n",
            "The behavior will change in pandas 3.0. This inplace method will never work because the intermediate object on which we are setting values always behaves as a copy.\n",
            "\n",
            "For example, when doing 'df[col].method(value, inplace=True)', try using 'df.method({col: value}, inplace=True)' or df[col] = df[col].method(value) instead, to perform the operation inplace on the original object.\n",
            "\n",
            "\n",
            "  df['avg_runs_last_5_innings_at_that_venue'].fillna(0, inplace=True)\n",
            "<ipython-input-38-c45d2faee3c9>:5: FutureWarning: A value is trying to be set on a copy of a DataFrame or Series through chained assignment using an inplace method.\n",
            "The behavior will change in pandas 3.0. This inplace method will never work because the intermediate object on which we are setting values always behaves as a copy.\n",
            "\n",
            "For example, when doing 'df[col].method(value, inplace=True)', try using 'df.method({col: value}, inplace=True)' or df[col] = df[col].method(value) instead, to perform the operation inplace on the original object.\n",
            "\n",
            "\n",
            "  df['avg_wickets_last_5_innings_at_that_venue'].fillna(0, inplace=True)\n"
          ]
        }
      ]
    },
    {
      "cell_type": "code",
      "source": [
        "# Fill missing values for categorical columns\n",
        "df.fillna(\"Unknown\", inplace=True)\n"
      ],
      "metadata": {
        "id": "Zr1hhwXtf7FP"
      },
      "execution_count": 39,
      "outputs": []
    },
    {
      "cell_type": "code",
      "source": [
        "df.drop(columns=['match_id', 'season'], inplace=True)"
      ],
      "metadata": {
        "id": "pg5KIB8ifEKg"
      },
      "execution_count": 40,
      "outputs": []
    },
    {
      "cell_type": "code",
      "source": [
        "# Define features and target\n",
        "X = df.drop(columns=['fantasy_points'])  # Keep player_name and other categorical columns\n",
        "y = df['fantasy_points']\n"
      ],
      "metadata": {
        "id": "dkIcgG9VecIn"
      },
      "execution_count": 41,
      "outputs": []
    },
    {
      "cell_type": "code",
      "source": [
        "nominal_categorical_cols = ['venue', 'player_team', 'opponent_team', 'player_name', 'pitch_nature']\n",
        "numeric_cols = ['avg_runs_last_5_innings', 'avg_runs_last_5_innings_at_that_venue',\n",
        "                'avg_wickets_last_5', 'avg_wickets_last_5_innings_at_that_venue']\n"
      ],
      "metadata": {
        "id": "wsFRsl4ledu4"
      },
      "execution_count": 42,
      "outputs": []
    },
    {
      "cell_type": "code",
      "source": [
        "# Preprocessing pipeline\n",
        "preprocessor = ColumnTransformer([\n",
        "    ('num', Pipeline([\n",
        "        ('imputer', SimpleImputer(strategy='mean')),\n",
        "        ('scaler', StandardScaler())\n",
        "    ]), numeric_cols),\n",
        "    ('cat', Pipeline([\n",
        "        ('imputer', SimpleImputer(strategy='constant', fill_value='Unknown')),\n",
        "        ('encoder', OneHotEncoder(handle_unknown='ignore'))\n",
        "    ]), nominal_categorical_cols)\n",
        "])\n"
      ],
      "metadata": {
        "id": "MIe5LV7PfKwm"
      },
      "execution_count": 43,
      "outputs": []
    },
    {
      "cell_type": "code",
      "source": [
        "\n",
        "X_train, X_test, y_train, y_test = train_test_split(X, y, test_size=0.2, random_state=42)"
      ],
      "metadata": {
        "id": "65v5cVTVfN4W"
      },
      "execution_count": 44,
      "outputs": []
    },
    {
      "cell_type": "code",
      "source": [
        "models = {\n",
        "    'Linear Regression': LinearRegression(),\n",
        "    'Random Forest': RandomForestRegressor(n_estimators=100, random_state=42),\n",
        "    'XGBoost': XGBRegressor(n_estimators=100, random_state=42)\n",
        "}"
      ],
      "metadata": {
        "id": "QUH9LY3OfQBP"
      },
      "execution_count": 45,
      "outputs": []
    },
    {
      "cell_type": "code",
      "source": [
        "# Train and evaluate models\n",
        "results = {}\n",
        "trained_pipelines = {}\n",
        "for name, model in models.items():\n",
        "    pipe = Pipeline([('preprocessor', preprocessor), ('model', model)])\n",
        "    pipe.fit(X_train, y_train)\n",
        "\n",
        "    y_pred = pipe.predict(X_test)\n",
        "    rmse = np.sqrt(mean_squared_error(y_test, y_pred))\n",
        "    r2 = r2_score(y_test, y_pred)\n",
        "\n",
        "    results[name] = {'RMSE': rmse, 'R² Score': r2}\n",
        "    trained_pipelines[name] = pipe  # Store trained pipeline for inference"
      ],
      "metadata": {
        "id": "r-2hXy8LfU6f"
      },
      "execution_count": 46,
      "outputs": []
    },
    {
      "cell_type": "code",
      "source": [
        "for model, metrics in results.items():\n",
        "    print(f\"{model}: RMSE = {metrics['RMSE']:.2f}, R² Score = {metrics['R² Score']:.2f}\")\n"
      ],
      "metadata": {
        "colab": {
          "base_uri": "https://localhost:8080/"
        },
        "id": "a1_9dm6dgtto",
        "outputId": "d8dd6943-27c2-48e6-8b29-f4b9d4786bb6"
      },
      "execution_count": 47,
      "outputs": [
        {
          "output_type": "stream",
          "name": "stdout",
          "text": [
            "Linear Regression: RMSE = 34.01, R² Score = 0.29\n",
            "Random Forest: RMSE = 36.44, R² Score = 0.18\n",
            "XGBoost: RMSE = 34.86, R² Score = 0.25\n"
          ]
        }
      ]
    },
    {
      "cell_type": "code",
      "source": [
        "def predict_fantasy_points(input_data, model_name='Random Forest'):\n",
        "    if model_name not in trained_pipelines:\n",
        "        raise ValueError(\"Model not found! Choose from: \" + \", \".join(trained_pipelines.keys()))\n",
        "\n",
        "    model = trained_pipelines[model_name]\n",
        "    df_input = pd.DataFrame([input_data])  # Convert input to DataFrame\n",
        "    df_input.fillna(\"Unknown\", inplace=True)  # Handle missing categorical values\n",
        "    df_input[numeric_cols] = df_input[numeric_cols].fillna(0)  # Handle missing numerical values\n",
        "    prediction = model.predict(df_input)[0]  # Get prediction\n",
        "    return prediction\n"
      ],
      "metadata": {
        "id": "CrBUVe9JgvE4"
      },
      "execution_count": 49,
      "outputs": []
    },
    {
      "cell_type": "code",
      "source": [
        "# Example input for prediction\n",
        "sample_input = {\n",
        "    'venue': 'Wankhede Stadium',\n",
        "    'player_team': 'Rajasthan Royals',\n",
        "    'opponent_team': 'Mumbai Indians',\n",
        "    'player_name': 'Jos Buttler',\n",
        "    'pitch_nature': 'Balanced',\n",
        "    'avg_runs_last_5_innings': 2,\n",
        "    'avg_runs_last_5_innings_at_that_venue': 34,\n",
        "    'avg_wickets_last_5': 0.0,\n",
        "    'avg_wickets_last_5_innings_at_that_venue': 0.0\n",
        "}\n",
        "\n",
        "# Predict fantasy points for the sample input\n",
        "predicted_points = predict_fantasy_points(sample_input, model_name='Random Forest')\n",
        "print(f\"Predicted Fantasy Points: {predicted_points:.2f}\")\n",
        "\n",
        "\n"
      ],
      "metadata": {
        "colab": {
          "base_uri": "https://localhost:8080/"
        },
        "id": "LqwZM5W3gzm_",
        "outputId": "75bc93f5-be57-49ed-e00a-833cd4597ac4"
      },
      "execution_count": 63,
      "outputs": [
        {
          "output_type": "stream",
          "name": "stdout",
          "text": [
            "Predicted Fantasy Points: 49.21\n"
          ]
        }
      ]
    }
  ]
}